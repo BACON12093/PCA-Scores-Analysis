{
 "cells": [
  {
   "cell_type": "code",
   "execution_count": 21,
   "id": "a286de69",
   "metadata": {},
   "outputs": [],
   "source": [
    "import math\n",
    "import numpy as np\n",
    "from scipy import linalg\n",
    "import matplotlib.pyplot as plt"
   ]
  },
  {
   "cell_type": "code",
   "execution_count": 20,
   "id": "ef4e0984",
   "metadata": {},
   "outputs": [],
   "source": [
    "A = np.zeros((0,6))\n",
    "with open(\"scores128A\", \"r\") as fp:\n",
    "    for line in fp:\n",
    "        fields = np.array(line.split(), dtype = float)\n",
    "        A = np.vstack((A, fields))\n",
    "\n",
    "X1 = A[:, 0]\n",
    "X2 = A[:, 1]\n",
    "X3 = A[:, 2]\n",
    "X4 = A[:, 3]\n",
    "X5 = A[:, 4]\n",
    "X6 = A[:, 5]"
   ]
  },
  {
   "cell_type": "code",
   "execution_count": 26,
   "id": "669802d6",
   "metadata": {},
   "outputs": [
    {
     "name": "stdout",
     "output_type": "stream",
     "text": [
      "4.8519953818744566e-14\n"
     ]
    }
   ],
   "source": [
    "# Step 1\n",
    "m = 230\n",
    "b = 1/230\n",
    "\n",
    "u1 = (b) * sum(X1)\n",
    "u2 = (b) * sum(X2)\n",
    "u3 = (b) * sum(X3)\n",
    "u4 = (b) * sum(X4)\n",
    "u5 = (b) * sum(X5)\n",
    "u6 = (b) * sum(X6)\n",
    "\n",
    "# Step 2\n",
    "\n",
    "Atil = A - np.array([u1, u2, u3, u4, u5, u6]).reshape(1,-1)\n",
    "\n",
    "# Step 3\n",
    "\n",
    "Atmp = Atil/np.sqrt(m-1)\n",
    "U,s,V = linalg.svd(Atmp,0)\n",
    "V = V.T\n",
    "S = np.diag(s)\n",
    "print(linalg.norm(Atmp-U@S@V.T))"
   ]
  },
  {
   "cell_type": "code",
   "execution_count": null,
   "id": "7a8abe25",
   "metadata": {},
   "outputs": [],
   "source": []
  }
 ],
 "metadata": {
  "kernelspec": {
   "display_name": "Python 3",
   "language": "python",
   "name": "python3"
  },
  "language_info": {
   "codemirror_mode": {
    "name": "ipython",
    "version": 3
   },
   "file_extension": ".py",
   "mimetype": "text/x-python",
   "name": "python",
   "nbconvert_exporter": "python",
   "pygments_lexer": "ipython3",
   "version": "3.12.4"
  }
 },
 "nbformat": 4,
 "nbformat_minor": 5
}
